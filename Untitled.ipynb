{
 "cells": [
  {
   "cell_type": "code",
   "execution_count": 1,
   "id": "184763af-49df-4679-8ffa-44ac9ba68269",
   "metadata": {},
   "outputs": [
    {
     "name": "stdout",
     "output_type": "stream",
     "text": [
      "hello\n"
     ]
    }
   ],
   "source": [
    "print(\"hello\")"
   ]
  },
  {
   "cell_type": "code",
   "execution_count": 3,
   "id": "236a920f-d571-4004-a984-613b3a1484bc",
   "metadata": {},
   "outputs": [
    {
     "data": {
      "text/plain": [
       "56"
      ]
     },
     "execution_count": 3,
     "metadata": {},
     "output_type": "execute_result"
    }
   ],
   "source": [
    "50+6"
   ]
  },
  {
   "cell_type": "code",
   "execution_count": 4,
   "id": "ebfd338f-cfa0-4795-a565-23a1497e3b8b",
   "metadata": {},
   "outputs": [
    {
     "data": {
      "text/plain": [
       "300"
      ]
     },
     "execution_count": 4,
     "metadata": {},
     "output_type": "execute_result"
    }
   ],
   "source": [
    "50 * 6"
   ]
  },
  {
   "cell_type": "code",
   "execution_count": 5,
   "id": "131970b5-d2c0-4e86-b67c-62beb0922ec1",
   "metadata": {},
   "outputs": [
    {
     "data": {
      "text/plain": [
       "8.333333333333334"
      ]
     },
     "execution_count": 5,
     "metadata": {},
     "output_type": "execute_result"
    }
   ],
   "source": [
    "50/6"
   ]
  },
  {
   "cell_type": "code",
   "execution_count": 6,
   "id": "9065d242-5aa4-4ccc-96b4-dcd00e62c0df",
   "metadata": {},
   "outputs": [
    {
     "data": {
      "text/plain": [
       "78125"
      ]
     },
     "execution_count": 6,
     "metadata": {},
     "output_type": "execute_result"
    }
   ],
   "source": [
    "x = 5\n",
    "y = 7\n",
    "x ** 7"
   ]
  },
  {
   "cell_type": "code",
   "execution_count": 7,
   "id": "823a065c-7182-4398-b49c-b1b793d6c31e",
   "metadata": {},
   "outputs": [
    {
     "data": {
      "text/plain": [
       "78129"
      ]
     },
     "execution_count": 7,
     "metadata": {},
     "output_type": "execute_result"
    }
   ],
   "source": [
    "4+_"
   ]
  },
  {
   "cell_type": "code",
   "execution_count": 9,
   "id": "d4b4a4da-39d0-4531-9fe9-a9d5dd41542c",
   "metadata": {},
   "outputs": [
    {
     "data": {
      "text/plain": [
       "'TITANIUM'"
      ]
     },
     "execution_count": 9,
     "metadata": {},
     "output_type": "execute_result"
    }
   ],
   "source": [
    "'TI' + 'TA' + 'NIUM'"
   ]
  },
  {
   "cell_type": "code",
   "execution_count": 10,
   "id": "25617d9c-bca8-4c61-acef-e79b91d097cb",
   "metadata": {},
   "outputs": [
    {
     "data": {
      "text/plain": [
       "'TITANIUM'"
      ]
     },
     "execution_count": 10,
     "metadata": {},
     "output_type": "execute_result"
    }
   ],
   "source": [
    "'TI' 'TA' 'NIUM'"
   ]
  },
  {
   "cell_type": "code",
   "execution_count": 11,
   "id": "f88ea901-9c5e-4a52-ba17-821b9c4a31c6",
   "metadata": {},
   "outputs": [],
   "source": [
    "word = 'Python'"
   ]
  },
  {
   "cell_type": "code",
   "execution_count": 12,
   "id": "946fe666-f1f9-4ecf-8c5d-34302ef42b41",
   "metadata": {},
   "outputs": [
    {
     "data": {
      "text/plain": [
       "'t'"
      ]
     },
     "execution_count": 12,
     "metadata": {},
     "output_type": "execute_result"
    }
   ],
   "source": [
    "word[2]"
   ]
  },
  {
   "cell_type": "code",
   "execution_count": 13,
   "id": "afb6fb25-13b2-4dbf-b263-d066efd61e2e",
   "metadata": {},
   "outputs": [
    {
     "data": {
      "text/plain": [
       "'h'"
      ]
     },
     "execution_count": 13,
     "metadata": {},
     "output_type": "execute_result"
    }
   ],
   "source": [
    "word[-3]"
   ]
  },
  {
   "cell_type": "code",
   "execution_count": 14,
   "id": "0666fb52-2fb0-4bd8-828d-a6f5a88fdc7e",
   "metadata": {},
   "outputs": [
    {
     "data": {
      "text/plain": [
       "'tho'"
      ]
     },
     "execution_count": 14,
     "metadata": {},
     "output_type": "execute_result"
    }
   ],
   "source": [
    "word[2:5]"
   ]
  },
  {
   "cell_type": "code",
   "execution_count": 15,
   "id": "4ef69911-dd00-4658-bc23-47ca1014d25e",
   "metadata": {},
   "outputs": [
    {
     "data": {
      "text/plain": [
       "'Pyth'"
      ]
     },
     "execution_count": 15,
     "metadata": {},
     "output_type": "execute_result"
    }
   ],
   "source": [
    "word[:4]"
   ]
  },
  {
   "cell_type": "code",
   "execution_count": 16,
   "id": "d0524636-e74c-423d-ada7-815b927c80c8",
   "metadata": {},
   "outputs": [
    {
     "data": {
      "text/plain": [
       "'thon'"
      ]
     },
     "execution_count": 16,
     "metadata": {},
     "output_type": "execute_result"
    }
   ],
   "source": [
    "word[2:]"
   ]
  },
  {
   "cell_type": "code",
   "execution_count": 17,
   "id": "39916120-5193-4dbb-9338-d37a260f51ad",
   "metadata": {},
   "outputs": [
    {
     "data": {
      "text/plain": [
       "'on'"
      ]
     },
     "execution_count": 17,
     "metadata": {},
     "output_type": "execute_result"
    }
   ],
   "source": [
    "word[4:42]"
   ]
  },
  {
   "cell_type": "code",
   "execution_count": 19,
   "id": "75bbf614-e36e-4a9f-8e74-17300249ccc2",
   "metadata": {},
   "outputs": [
    {
     "data": {
      "text/plain": [
       "''"
      ]
     },
     "execution_count": 19,
     "metadata": {},
     "output_type": "execute_result"
    }
   ],
   "source": [
    "word[42:]"
   ]
  },
  {
   "cell_type": "code",
   "execution_count": 23,
   "id": "a1ae12b7-837c-40dc-a8b9-12cb2d7442ee",
   "metadata": {},
   "outputs": [
    {
     "data": {
      "text/plain": [
       "'Jython'"
      ]
     },
     "execution_count": 23,
     "metadata": {},
     "output_type": "execute_result"
    }
   ],
   "source": [
    "'J' + word[1:]"
   ]
  },
  {
   "cell_type": "code",
   "execution_count": 32,
   "id": "30d987f3-cd1e-4d43-a3f4-180677758232",
   "metadata": {},
   "outputs": [
    {
     "data": {
      "text/plain": [
       "'Pypy'"
      ]
     },
     "execution_count": 32,
     "metadata": {},
     "output_type": "execute_result"
    }
   ],
   "source": [
    "'J' + word[1:]\n",
    "word[:2] + 'py'"
   ]
  },
  {
   "cell_type": "code",
   "execution_count": 24,
   "id": "1bd8585e-9265-4809-b2ce-713bcfdfa36b",
   "metadata": {},
   "outputs": [
    {
     "data": {
      "text/plain": [
       "'Pypy'"
      ]
     },
     "execution_count": 24,
     "metadata": {},
     "output_type": "execute_result"
    }
   ],
   "source": [
    "word[:2] + 'py'"
   ]
  },
  {
   "cell_type": "code",
   "execution_count": 25,
   "id": "ca688165-5d19-4bac-8e3f-36b1358d7856",
   "metadata": {},
   "outputs": [
    {
     "data": {
      "text/plain": [
       "[1, 4, 9, 16, 25]"
      ]
     },
     "execution_count": 25,
     "metadata": {},
     "output_type": "execute_result"
    }
   ],
   "source": [
    "squares = [1, 4, 9, 16, 25]\n",
    "squares"
   ]
  },
  {
   "cell_type": "code",
   "execution_count": 27,
   "id": "6e83afe9-0c4d-4891-a5fa-ee7566194014",
   "metadata": {},
   "outputs": [
    {
     "data": {
      "text/plain": [
       "1"
      ]
     },
     "execution_count": 27,
     "metadata": {},
     "output_type": "execute_result"
    }
   ],
   "source": [
    "squares[0]  # indexing returns the item\n"
   ]
  },
  {
   "cell_type": "code",
   "execution_count": 28,
   "id": "5cde2798",
   "metadata": {},
   "outputs": [
    {
     "data": {
      "text/plain": [
       "25"
      ]
     },
     "execution_count": 28,
     "metadata": {},
     "output_type": "execute_result"
    }
   ],
   "source": [
    "squares[-1]\n"
   ]
  },
  {
   "cell_type": "code",
   "execution_count": 29,
   "id": "9845aaf0",
   "metadata": {},
   "outputs": [
    {
     "data": {
      "text/plain": [
       "[9, 16, 25]"
      ]
     },
     "execution_count": 29,
     "metadata": {},
     "output_type": "execute_result"
    }
   ],
   "source": [
    "squares[-3:]  # slicing returns a new list\n"
   ]
  },
  {
   "cell_type": "code",
   "execution_count": 30,
   "id": "7762ac9b",
   "metadata": {},
   "outputs": [
    {
     "data": {
      "text/plain": [
       "[9, 16, 25]"
      ]
     },
     "execution_count": 30,
     "metadata": {},
     "output_type": "execute_result"
    }
   ],
   "source": [
    "squares[0]  # indexing returns the item\n",
    "\n",
    "squares[-1]\n",
    "\n",
    "squares[-3:]  # slicing returns a new list"
   ]
  },
  {
   "cell_type": "code",
   "execution_count": 36,
   "id": "b4537559-0974-47c3-b1b5-49d77d0c58d9",
   "metadata": {},
   "outputs": [
    {
     "data": {
      "text/plain": [
       "[1, 8, 27, 64, 125]"
      ]
     },
     "execution_count": 36,
     "metadata": {},
     "output_type": "execute_result"
    }
   ],
   "source": [
    "cubes = [1, 8, 27, 65, 125]\n",
    "cubes[3] = 64\n",
    "cubes"
   ]
  },
  {
   "cell_type": "code",
   "execution_count": 37,
   "id": "b69de6ba-1294-4e33-a13a-7971e4a11ef3",
   "metadata": {},
   "outputs": [
    {
     "data": {
      "text/plain": [
       "[1, 8, 27, 64, 125, 216, 343]"
      ]
     },
     "execution_count": 37,
     "metadata": {},
     "output_type": "execute_result"
    }
   ],
   "source": [
    "cubes.append(216)  # add the cube of 6\n",
    "cubes.append(7 ** 3)  # and the cube of 7\n",
    "cubes"
   ]
  },
  {
   "cell_type": "code",
   "execution_count": 42,
   "id": "dc05fae1-6804-4777-b754-e4f22b881c1d",
   "metadata": {},
   "outputs": [
    {
     "data": {
      "text/plain": [
       "['Red', 'Green', 'Blue', 'Alph']"
      ]
     },
     "execution_count": 42,
     "metadata": {},
     "output_type": "execute_result"
    }
   ],
   "source": [
    "rgb = [\"Red\", \"Green\", \"Blue\"]\n",
    "rgba = rgb\n",
    "id(rgb) == id(rgba)  # they reference the same object\n",
    "\n",
    "rgba.append(\"Alph\")\n",
    "rgb"
   ]
  },
  {
   "cell_type": "code",
   "execution_count": 44,
   "id": "b068870c-c785-4e93-b67e-af588c16d40d",
   "metadata": {},
   "outputs": [
    {
     "data": {
      "text/plain": [
       "['Red', 'Green', 'Blue', 'Alph']"
      ]
     },
     "execution_count": 44,
     "metadata": {},
     "output_type": "execute_result"
    }
   ],
   "source": [
    "correct_rgba = rgba[:]\n",
    "correct_rgba"
   ]
  },
  {
   "cell_type": "code",
   "execution_count": 45,
   "id": "bbd714d5-1035-4c1e-92b2-7682712e8d08",
   "metadata": {},
   "outputs": [
    {
     "data": {
      "text/plain": [
       "4"
      ]
     },
     "execution_count": 45,
     "metadata": {},
     "output_type": "execute_result"
    }
   ],
   "source": [
    "len(correct_rgba)"
   ]
  },
  {
   "cell_type": "code",
   "execution_count": 46,
   "id": "d0de14fa-a802-4e42-922c-ca6d26741493",
   "metadata": {},
   "outputs": [
    {
     "data": {
      "text/plain": [
       "[['a', 'b', 'c'], [1, 2, 3]]"
      ]
     },
     "execution_count": 46,
     "metadata": {},
     "output_type": "execute_result"
    }
   ],
   "source": [
    "a = ['a', 'b', 'c']\n",
    "n = [1, 2, 3]\n",
    "x = [a, n]\n",
    "x"
   ]
  },
  {
   "cell_type": "code",
   "execution_count": 47,
   "id": "05c0d171-7fe5-4706-88c7-8c727aca8f3d",
   "metadata": {},
   "outputs": [
    {
     "data": {
      "text/plain": [
       "['a', 'b', 'c']"
      ]
     },
     "execution_count": 47,
     "metadata": {},
     "output_type": "execute_result"
    }
   ],
   "source": [
    "x[0]"
   ]
  },
  {
   "cell_type": "code",
   "execution_count": 48,
   "id": "16002137-e7e1-47fe-93b6-610dd0431656",
   "metadata": {},
   "outputs": [
    {
     "data": {
      "text/plain": [
       "'b'"
      ]
     },
     "execution_count": 48,
     "metadata": {},
     "output_type": "execute_result"
    }
   ],
   "source": [
    "x[0][1]\n"
   ]
  },
  {
   "cell_type": "code",
   "execution_count": 54,
   "id": "ddaa4948-9b13-47f1-948a-53e3ce77e2df",
   "metadata": {},
   "outputs": [
    {
     "name": "stdout",
     "output_type": "stream",
     "text": [
      "1\n",
      "2\n",
      "3\n",
      "4\n",
      "5\n",
      "6\n",
      "7\n",
      "8\n",
      "9\n",
      "10\n"
     ]
    }
   ],
   "source": [
    "a,b=0,1\n",
    "while a<10:\n",
    "    a = a + 1\n",
    "    print(a)"
   ]
  },
  {
   "cell_type": "code",
   "execution_count": 57,
   "id": "7a1e03b2-a284-41da-8e9d-fc1199119d6e",
   "metadata": {},
   "outputs": [
    {
     "name": "stdout",
     "output_type": "stream",
     "text": [
      "0\n",
      "1\n",
      "1\n",
      "2\n",
      "3\n",
      "5\n",
      "8\n"
     ]
    }
   ],
   "source": [
    "a,b=0,1\n",
    "while a < 10:\n",
    "    print(a)\n",
    "    a,b= b,a+b"
   ]
  },
  {
   "cell_type": "code",
   "execution_count": 59,
   "id": "2df76deb-09cb-45ce-a1e4-b0f647c0c687",
   "metadata": {},
   "outputs": [
    {
     "name": "stdout",
     "output_type": "stream",
     "text": [
      "{'Hans': 'active', '景太郎': 'active'}\n"
     ]
    }
   ],
   "source": [
    "# Create a sample collection\n",
    "users = {'Hans': 'active', 'Éléonore': 'inactive', '景太郎': 'active'}\n",
    "\n",
    "# Strategy:  Iterate over a copy\n",
    "for user, status in users.copy().items():\n",
    "    if status == 'inactive':\n",
    "        del users[user]\n",
    "print(users)"
   ]
  },
  {
   "cell_type": "code",
   "execution_count": 61,
   "id": "ce91e617-ea90-4c52-adf5-5c9873aee870",
   "metadata": {},
   "outputs": [
    {
     "data": {
      "text/plain": [
       "1.0"
      ]
     },
     "execution_count": 61,
     "metadata": {},
     "output_type": "execute_result"
    }
   ],
   "source": [
    "2/2"
   ]
  },
  {
   "cell_type": "code",
   "execution_count": 69,
   "id": "d5b23cf2-1051-4c34-924f-829690ba2996",
   "metadata": {},
   "outputs": [
    {
     "name": "stdout",
     "output_type": "stream",
     "text": [
      "2 4 6 8 10 12 14 16 18 20 "
     ]
    }
   ],
   "source": [
    "x = 20\n",
    "for i in range(1,21):\n",
    "    if i%2 == 0:\n",
    "        print(i, end=\" \")"
   ]
  },
  {
   "cell_type": "code",
   "execution_count": 78,
   "id": "f1cd3968-b070-4037-9a1c-798dc8706d29",
   "metadata": {},
   "outputs": [
    {
     "name": "stdout",
     "output_type": "stream",
     "text": [
      "30\n"
     ]
    }
   ],
   "source": [
    "def sum_of_digits(x):\n",
    "    y = str(x)\n",
    "    b = 0\n",
    "    \n",
    "    for i in y:\n",
    "        b = b + int(i)\n",
    "        \n",
    "    print(b)\n",
    "\n",
    "sum_of_digits(25689)"
   ]
  },
  {
   "cell_type": "code",
   "execution_count": 109,
   "id": "99917eeb-d827-4930-896a-f9ce69bd7a36",
   "metadata": {},
   "outputs": [
    {
     "name": "stdout",
     "output_type": "stream",
     "text": [
      "olleh"
     ]
    }
   ],
   "source": [
    "def reverse_string(s):\n",
    "    p = str(s)\n",
    "    for i in range(1, len(p)+1):\n",
    "        print(p[-i],end=\"\")\n",
    "\n",
    "\n",
    "reverse_string(\"hello\")"
   ]
  },
  {
   "cell_type": "code",
   "execution_count": 123,
   "id": "f0ab2b4c-5e93-4fa4-854b-336e9de0763e",
   "metadata": {},
   "outputs": [
    {
     "name": "stdout",
     "output_type": "stream",
     "text": [
      "4\n",
      "4\n"
     ]
    }
   ],
   "source": [
    "#Write a function count_vowels(s) that takes a string and returns the number of vowels (a, e, i, o, u).\n",
    "\n",
    "def count_vowels(x):\n",
    "    count = 0\n",
    "    vowels='aeiou'\n",
    "    for i in x:\n",
    "        for b in vowels:\n",
    "            if i == b:\n",
    "                count = count + 1\n",
    "    print(count)\n",
    "\n",
    "count_vowels(\"obiorah\")\n",
    "count_vowels(\"ifeoma\")\n",
    " "
   ]
  },
  {
   "cell_type": "code",
   "execution_count": 144,
   "id": "cc062ec0-23a9-493b-af52-a6902446425c",
   "metadata": {},
   "outputs": [
    {
     "name": "stdout",
     "output_type": "stream",
     "text": [
      "24\n"
     ]
    }
   ],
   "source": [
    "#Write a function factorial(n) that returns the factorial of a given number n using a loop.\n",
    "\n",
    "def factorial(num):\n",
    "    x=1\n",
    "    \n",
    "    for i in range(1, num+1):\n",
    "        x = x * i\n",
    "    \n",
    "    print(x)\n",
    "    \n",
    "factorial(4)"
   ]
  },
  {
   "cell_type": "code",
   "execution_count": 156,
   "id": "150dfc58-543c-4a9b-8056-216626488d26",
   "metadata": {},
   "outputs": [
    {
     "name": "stdout",
     "output_type": "stream",
     "text": [
      "1\n",
      "2\n",
      "Fizz\n",
      "4\n",
      "Buzz\n",
      "Fizz\n",
      "7\n",
      "8\n",
      "Fizz\n",
      "Buzz\n",
      "11\n",
      "Fizz\n",
      "13\n",
      "14\n",
      "FizzBuzz\n",
      "16\n",
      "17\n",
      "Fizz\n",
      "19\n",
      "Buzz\n",
      "Fizz\n",
      "22\n",
      "23\n",
      "Fizz\n",
      "Buzz\n",
      "26\n",
      "Fizz\n",
      "28\n",
      "29\n",
      "FizzBuzz\n",
      "31\n",
      "32\n",
      "Fizz\n",
      "34\n",
      "Buzz\n",
      "Fizz\n",
      "37\n",
      "38\n",
      "Fizz\n",
      "Buzz\n",
      "41\n",
      "Fizz\n",
      "43\n",
      "44\n",
      "FizzBuzz\n",
      "46\n",
      "47\n",
      "Fizz\n",
      "49\n",
      "Buzz\n"
     ]
    }
   ],
   "source": [
    "# Write a Python program that prints numbers from 1 to 50.\n",
    "\n",
    "# For multiples of 3, print \"Fizz\"\n",
    "# For multiples of 5, print \"Buzz\"\n",
    "# For multiples of both 3 and 5, print \"FizzBuzz\"\n",
    "\n",
    "for i in range(1,51):\n",
    "    if i%3 == 0 and i%5==0:\n",
    "        print(\"FizzBuzz\")\n",
    "    elif i%3 == 0:\n",
    "        print(\"Fizz\")\n",
    "    elif i%5==0:\n",
    "        print(\"Buzz\")\n",
    "    else:\n",
    "        print(i)\n",
    "    \n",
    "        \n"
   ]
  },
  {
   "cell_type": "code",
   "execution_count": 157,
   "id": "359cc07c-fb24-444c-a603-c0a3a049d918",
   "metadata": {},
   "outputs": [
    {
     "name": "stdout",
     "output_type": "stream",
     "text": [
      "\n",
      "*\n",
      "**\n",
      "***\n",
      "****\n",
      "*****\n"
     ]
    }
   ],
   "source": [
    "#Write a Python program that prints a right-angled triangle of stars (*) with height 5\n",
    "\n",
    "for i in range(6):\n",
    "    x=\"*\"*i\n",
    "    print(x)\n",
    "    "
   ]
  },
  {
   "cell_type": "code",
   "execution_count": 168,
   "id": "7067ddb3-3896-4da9-bb48-1a27000b8c15",
   "metadata": {},
   "outputs": [
    {
     "name": "stdout",
     "output_type": "stream",
     "text": [
      "10\n"
     ]
    }
   ],
   "source": [
    "#Write a function find_max(lst) that takes a list of numbers and returns the largest number without using max().\n",
    "k = [1, 6, 5, 4, 10, 2, 4, 6]\n",
    "max = 0\n",
    "for i in k:\n",
    "    if i > max:\n",
    "        max = i\n",
    "print(max)\n",
    "    "
   ]
  },
  {
   "cell_type": "code",
   "execution_count": 184,
   "id": "7ad33451-6cbc-4f38-aa87-63d58b14a37e",
   "metadata": {},
   "outputs": [
    {
     "name": "stdout",
     "output_type": "stream",
     "text": [
      "is not palindrome\n"
     ]
    }
   ],
   "source": [
    "#Write a Python program to Check Palindrome\n",
    "def palindrome(s):\n",
    "    string_s = str(s)\n",
    "    pali_s = string_s[::-1]\n",
    "    return pali_s == string_s\n",
    "\n",
    "if palindrome(122341):\n",
    "    print('is palindrome')\n",
    "else:\n",
    "    print('is not palindrome')\n"
   ]
  },
  {
   "cell_type": "code",
   "execution_count": 182,
   "id": "b35b665e-3254-4e0c-bc36-25320cfebe26",
   "metadata": {},
   "outputs": [
    {
     "name": "stdout",
     "output_type": "stream",
     "text": [
      "Number of vowels in the string: 3\n"
     ]
    }
   ],
   "source": [
    "#Write a Python program to Count Vowels in a String.\n",
    "def count_vowels(s):\n",
    "    # Define vowels\n",
    "    vowels = \"aeiouAEIOU\"\n",
    "    # Initialize count\n",
    "    count = 0\n",
    "    # Count vowels\n",
    "    for char in s:\n",
    "        if char in vowels:\n",
    "            count += 1\n",
    "    return count\n",
    "\n",
    "# Example usage\n",
    "input_string = \"Hello, World!\"\n",
    "vowel_count = count_vowels(input_string)\n",
    "print(\"Number of vowels in the string:\", vowel_count)\n"
   ]
  },
  {
   "cell_type": "code",
   "execution_count": 185,
   "id": "16d22eef-9134-4397-82b8-4ca558414812",
   "metadata": {},
   "outputs": [
    {
     "name": "stdout",
     "output_type": "stream",
     "text": [
      "6\n"
     ]
    }
   ],
   "source": [
    "factorial(3)"
   ]
  },
  {
   "cell_type": "code",
   "execution_count": 195,
   "id": "996620a1-60c2-4c74-9aba-24f7a6b8a445",
   "metadata": {},
   "outputs": [
    {
     "data": {
      "text/plain": [
       "[0, 1, 1, 2, 3, 5, 8, 13, 21, 34, 55]"
      ]
     },
     "execution_count": 195,
     "metadata": {},
     "output_type": "execute_result"
    }
   ],
   "source": [
    "#Write a Python program to find Fibonacci Sequence.\n",
    "def fibonacci(n):\n",
    "    k=[0,1]\n",
    "    for i in range(2,n+1):\n",
    "        if i <= n:\n",
    "            k.append(k[i-1] + k[i-2])\n",
    "    return (k)\n",
    "\n",
    "fibonacci(10)"
   ]
  },
  {
   "cell_type": "code",
   "execution_count": 196,
   "id": "c5778ff3-d22f-48fc-b138-ca4bc8590f1b",
   "metadata": {},
   "outputs": [],
   "source": [
    "#Write a Python program to find the Maximum Element in a List.\n",
    "\n",
    "# Example list\n",
    "my_list = [10, 23, 45, 67, 12, 89, 34]\n",
    "\n",
    "# Find maximum element\n",
    "max_element = max(my_list)\n",
    "\n",
    "print(\"Maximum element in the list:\", max_element)"
   ]
  },
  {
   "cell_type": "code",
   "execution_count": 207,
   "id": "5cb6e68b-1471-4461-84f9-c02c1e8eb6c6",
   "metadata": {},
   "outputs": [
    {
     "name": "stdout",
     "output_type": "stream",
     "text": [
      "'listen' and 'silent' are anagrams.\n"
     ]
    }
   ],
   "source": [
    "def is_anagram(str1, str2):\n",
    "    # Remove spaces and convert to lowercase for case-insensitive comparison\n",
    "    str1 = str1.replace(\" \", \"\").lower()\n",
    "    str2 = str2.replace(\" \", \"\").lower()\n",
    "    # Check if the sorted forms of both strings are equal\n",
    "    return sorted(str1) == sorted(str2)\n",
    "\n",
    "# Example usage\n",
    "string1 = \"listen\"\n",
    "string2 = \"silent\"\n",
    "if is_anagram(string1, string2):\n",
    "    print(f\"'{string1}' and '{string2}' are anagrams.\")\n",
    "else:\n",
    "    print(f\"'{string1}' and '{string2}' are not anagrams.\")\n"
   ]
  },
  {
   "cell_type": "code",
   "execution_count": 218,
   "id": "197e9268-d620-459a-81ba-80f5d7d696e1",
   "metadata": {},
   "outputs": [
    {
     "name": "stdout",
     "output_type": "stream",
     "text": [
      "Number of words in the sentence: 5\n"
     ]
    }
   ],
   "source": [
    "#Write a Python program to Count Words in a Sentence.\n",
    "def count_words(sentence):\n",
    "    # Split the sentence into words using whitespace as the delimiter\n",
    "    words = sentence.split()\n",
    "    # Count the number of words\n",
    "    return len(words)\n",
    "\n",
    "# Example usage\n",
    "input_sentence = \"This is a sample sentence.\"\n",
    "word_count = count_words(input_sentence)\n",
    "print(\"Number of words in the sentence:\", word_count)"
   ]
  },
  {
   "cell_type": "code",
   "execution_count": 220,
   "id": "89422ca0-0504-407b-b4e8-539b4f80b701",
   "metadata": {},
   "outputs": [
    {
     "name": "stdout",
     "output_type": "stream",
     "text": [
      "Number of words in the sentence: 5\n"
     ]
    }
   ],
   "source": [
    "#Write a Python program to Count Words in a Sentence.\n",
    "sentence = \"This is a sample sentence.\"\n",
    "word_count = len(sentence.split())\n",
    "print(\"Number of words in the sentence:\", word_count)"
   ]
  },
  {
   "cell_type": "code",
   "execution_count": null,
   "id": "9c94b5f8-47f4-405f-8839-469983a29e72",
   "metadata": {},
   "outputs": [],
   "source": [
    "#Question 28: Write a Python program to check if a Number is a Power of Two.\n",
    "\n",
    "def ispowerof2(n):\n",
    "    while n > 1:\n",
    "        if n % 2 != 0:\n",
    "            return False\n",
    "        n = n//2\n",
    "    return True\n",
    "\n",
    "if ispowerof2(4):\n",
    "    print('power')\n",
    "else:\n",
    "    print('not power')\n",
    "      "
   ]
  },
  {
   "cell_type": "code",
   "execution_count": null,
   "id": "df2b2acb-02cc-490b-ab92-0b82037bdf3e",
   "metadata": {},
   "outputs": [],
   "source": [
    "def ispowerof2(n):\n",
    "    while n > 1:\n",
    "        if n % 2 != 0:\n",
    "            return False\n",
    "        n = n//2\n",
    "    return True\n",
    "\n",
    "if ispowerof2(4):\n",
    "    print('power')\n",
    "else:\n",
    "    print('not power')"
   ]
  },
  {
   "cell_type": "code",
   "execution_count": null,
   "id": "5855beaf-a091-4620-9c92-ce7272fb9eaa",
   "metadata": {},
   "outputs": [],
   "source": [
    "print('hello')"
   ]
  },
  {
   "cell_type": "code",
   "execution_count": null,
   "id": "f141721c-a1af-40d7-a873-f7ac53b72778",
   "metadata": {},
   "outputs": [],
   "source": []
  }
 ],
 "metadata": {
  "kernelspec": {
   "display_name": "Python 3 (ipykernel)",
   "language": "python",
   "name": "python3"
  },
  "language_info": {
   "codemirror_mode": {
    "name": "ipython",
    "version": 3
   },
   "file_extension": ".py",
   "mimetype": "text/x-python",
   "name": "python",
   "nbconvert_exporter": "python",
   "pygments_lexer": "ipython3",
   "version": "3.13.2"
  }
 },
 "nbformat": 4,
 "nbformat_minor": 5
}
